{
 "cells": [
  {
   "cell_type": "code",
   "execution_count": 3,
   "metadata": {},
   "outputs": [],
   "source": [
    "import nltk\n",
    "import json"
   ]
  },
  {
   "cell_type": "code",
   "execution_count": null,
   "metadata": {},
   "outputs": [],
   "source": [
    "dataset_folder = \"yelp_dataset_challenge_academic_dataset\"\n",
    "business_datafile = \"yelp_academic_dataset_business.json\"\n",
    "review_datafile = \"yelp_academic_dataset_review.json\""
   ]
  },
  {
   "cell_type": "markdown",
   "metadata": {},
   "source": [
    "Reading the list of cuisines we are interested in"
   ]
  },
  {
   "cell_type": "code",
   "execution_count": 7,
   "metadata": {},
   "outputs": [],
   "source": [
    "cuisines = set()\n",
    "with open(\"cuisine_list.txt\", \"r\", encoding=\"utf-8\") as c:\n",
    "    for line in c:\n",
    "        cuisines.add(line.strip())"
   ]
  },
  {
   "cell_type": "markdown",
   "metadata": {},
   "source": [
    "Reading in the business details from the Yelp Dataset"
   ]
  },
  {
   "cell_type": "code",
   "execution_count": null,
   "metadata": {},
   "outputs": [],
   "source": [
    "business_data = pd.read_json(f\"../{dataset_folder}/{business_datafile}\", lines=True, typ=\"frame\", orient=\"columns\")\n",
    "business_data.drop([\"hours\", \"open\", \"full_address\", \"neighborhoods\", \"longitude\", \"latitude\", \"attributes\", \"type\", \"review_count\"], axis=1, inplace=True)\n",
    "business_data.set_index(\"business_id\", inplace=True, verify_integrity=True)\n",
    "business_data[\"categories\"] = business_data[\"categories\"].apply(lambda x: set(x))"
   ]
  },
  {
   "cell_type": "markdown",
   "metadata": {},
   "source": [
    "Filtering out only the restaurants that serve the cuisine we are interested in"
   ]
  },
  {
   "cell_type": "code",
   "execution_count": null,
   "metadata": {},
   "outputs": [],
   "source": [
    "restaurant_data = business_data[business_data[\"categories\"].map(lambda x: \"Restaurants\" in x)]"
   ]
  },
  {
   "cell_type": "markdown",
   "metadata": {},
   "source": [
    "Converting all the reviews into a list of sentences"
   ]
  },
  {
   "cell_type": "code",
   "execution_count": null,
   "metadata": {},
   "outputs": [],
   "source": [
    "with open(\"../yelp_dataset_challenge_academic_dataset/yelp_academic_dataset_review.json\", \"r\") as f:\n",
    "    with open(\"./review_sentences.txt\", \"w\", encoding=\"utf-8\") as o:\n",
    "        for line in f:\n",
    "            obj = json.loads(line)\n",
    "            review_string = obj.text\n",
    "            review_string = review_string.lower()\n",
    "            sentences = nltk.sent_tokenize(review_string)\n",
    "            o.writelines(sentences)\n",
    "        "
   ]
  }
 ],
 "metadata": {
  "kernelspec": {
   "display_name": "Python 3",
   "language": "python",
   "name": "python3"
  },
  "language_info": {
   "codemirror_mode": {
    "name": "ipython",
    "version": 3
   },
   "file_extension": ".py",
   "mimetype": "text/x-python",
   "name": "python",
   "nbconvert_exporter": "python",
   "pygments_lexer": "ipython3",
   "version": "3.7.4"
  }
 },
 "nbformat": 4,
 "nbformat_minor": 2
}
